{
 "cells": [
  {
   "cell_type": "markdown",
   "id": "referenced-september",
   "metadata": {},
   "source": [
    "## Podstawy bezpieczeństwa komputerowego\n",
    "\n",
    "# Notatka z pierwszego spotkania"
   ]
  },
  {
   "cell_type": "markdown",
   "id": "wireless-chinese",
   "metadata": {},
   "source": [
    "## Otwieranie strony"
   ]
  },
  {
   "cell_type": "markdown",
   "id": "roman-launch",
   "metadata": {},
   "source": [
    "To, że przeglądarka nie może (nie chce, nie potrafi) załadować jakieś strony to nic nie mówi o przyczynie.\n",
    "\n",
    "Sprawdzanie serwisu przez przeglądarkę nie ma sensu, gdyż zbyt wiele rzeczy może się nie udać i nie wiadomo co faktycznie poszło nie tak.\n",
    "\n",
    "Co się dzieje lepiej widać z poziomu [`wget`](https://www.gnu.org/software/wget/manual/html_node/index.html) lub [`curl`](https://curl.se/docs/manual.html)."
   ]
  },
  {
   "cell_type": "markdown",
   "id": "injured-routine",
   "metadata": {},
   "source": [
    "```\n",
    "# wget 87.205.94.150:80\n",
    "--2021-03-10 14:01:00--  http://87.205.94.150/\n",
    "Connecting to 87.205.94.150:80... connected.\n",
    "HTTP request sent, awaiting response... 301 Moved Permanently\n",
    "Location: http://dziurawiec/ [following]\n",
    "--2021-03-10 14:01:00--  http://dziurawiec/\n",
    "Resolving dziurawiec... failed: Name or service not known.\n",
    "wget: unable to resolve host address “dziurawiec”\n",
    "```"
   ]
  },
  {
   "cell_type": "markdown",
   "id": "honest-cornwall",
   "metadata": {},
   "source": [
    "Wyraźnie widać, że serwer jest osiągalny:\n",
    "```\n",
    "Connecting to 87.205.94.150:80... connected.\n",
    "```"
   ]
  },
  {
   "cell_type": "markdown",
   "id": "liable-perry",
   "metadata": {},
   "source": [
    "Wyraźnie widać, że odpowidział:\n",
    "```\n",
    "HTTP request sent, awaiting response... 301 Moved Permanently\n",
    "```\n",
    "\n",
    "Ten [kod HTTP](https://developer.mozilla.org/en-US/docs/Web/HTTP/Status) to żadne zaskoczenie.\n",
    "W przypadku [współdzielonego hostingu](https://en.wikipedia.org/wiki/Shared_web_hosting_service#Name-based) to dość oczywista sprawa, bo bez nazwy domenowej serwer nie wie, którego [vhost-a](http://httpd.apache.org/docs/current/vhosts/) ma użyć.\n",
    "Równie często będzie to redirect z powodu użycia http, a nie https."
   ]
  },
  {
   "cell_type": "markdown",
   "id": "coral-testing",
   "metadata": {},
   "source": [
    "Nie udało się [rozwiązać nazwy](https://en.wikipedia.org/wiki/Domain_Name_System#DNS_resolvers), ale przynajmniej wiadomo gdzie problem.\n",
    "```\n",
    "Resolving dziurawiec... failed: Name or service not known.\n",
    "wget: unable to resolve host address “dziurawiec”\n",
    "```"
   ]
  },
  {
   "cell_type": "markdown",
   "id": "latter-collar",
   "metadata": {},
   "source": [
    "Dziwny ten konfig bo nie jest to [domena w pełni kawalifikowana](https://en.wikipedia.org/wiki/Fully_qualified_domain_name), więc w różnych miejscach może się różnie rozwiązywać.\n",
    "\n",
    "Z drugiej strony nie jest, aż tak zaskakujące. Może zasób ma być w założeniu dostępny \"w siedzibie\" i wtedy lokalny [proxy dns](https://en.wikipedia.org/wiki/Dnsmasq) (np. taki jak w domowym tzw. rutrze) by to rozwiązał.\n",
    "Więc może wystarczy zmodyfikować plik [`hosts`](https://en.wikipedia.org/wiki/Hosts_(file)) dodająć:\n",
    "```\n",
    "87.205.94.150 dziurawiec\n",
    "```"
   ]
  },
  {
   "cell_type": "markdown",
   "id": "executive-inspector",
   "metadata": {},
   "source": [
    "### Wnioski\n",
    "\n",
    "Wydałoby:\n",
    "* wiedzieć na czym polega http i dns,\n",
    "* mieć konsolowe środowisko do debugu, tworzenia lub wykorzystywania dziwnych sytuacji,\n",
    "* znać swój ulubiony OS."
   ]
  },
  {
   "cell_type": "markdown",
   "id": "royal-driver",
   "metadata": {},
   "source": [
    "## Rozglądanie się i domniemania\n",
    "\n",
    "Do ustalenia:\n",
    "* Czym jest ta strona?\n",
    "  * statyczny html, a może jakiś famework, jakiś cms?\n",
    "    * zamknięty/otwarty?\n",
    "    * która wersja?\n",
    "    * w czym napisany?\n",
    "* Na czym jest ta strona?\n",
    "  * jaki webserwer?\n",
    "* OS hosta?"
   ]
  },
  {
   "cell_type": "markdown",
   "id": "occupational-understanding",
   "metadata": {},
   "source": [
    "Czasami widać to np. w kodzie strony, np.:\n",
    "```\n",
    "<meta name=\"generator\" content=\"WordPress 5.7\" />\n",
    "```\n",
    "\n",
    "Czasami w ścieżkach do assetów, np.:\n",
    "```\n",
    "<script type='text/javascript' src='/wp-includes/js/comment-reply.min.js?ver=5.7' id='comment-reply-js'></script>\n",
    "```"
   ]
  },
  {
   "cell_type": "markdown",
   "id": "lyric-aquarium",
   "metadata": {},
   "source": [
    "Czasami wystarczy coś doczytać o zależnościach, [np.](https://wordpress.org/support/article/requirements/):\n",
    "\n",
    "```\n",
    "To run WordPress we recommend your host supports the following:\n",
    "\n",
    "    PHP version 7.4+\n",
    "    MySQL version 5.6+ or MariaDB version 10.1+\n",
    "    HTTPS support\n",
    "\n",
    "We recommend Apache and NGINX as the most robust servers with the most features for running WordPress, but any server that supports PHP and MySQL will do.\n",
    "\n",
    "Note: WordPress also works in legacy environments with PHP 5.6.20+ and MySQL 5.0+, but these versions have reached official end-of-life and as such may expose your site to security vulnerabilities.\n",
    "```"
   ]
  },
  {
   "cell_type": "markdown",
   "id": "yellow-adrian",
   "metadata": {},
   "source": [
    "Idzie zbyt łatwo? \n",
    "\n",
    "Czyżby [honeypot](https://en.wikipedia.org/wiki/Honeypot_(computing))?!"
   ]
  },
  {
   "cell_type": "markdown",
   "id": "elegant-patio",
   "metadata": {},
   "source": [
    "Nawet najmniejsze [numery wersji mają znaczenie](https://en.wikipedia.org/wiki/Software_versioning#Degree_of_compatibility), a [dobry changelog](https://www.apachelounge.com/Changelog-2.4.html) powie co załatano.\n",
    "\n",
    "Jeśli nie możesz ustalić aktualnej wersji to przyjmij roboczo, że masz przed sobą coś odrobinę starszego. (Może admin jest zawalony robotą, a może są zależności, którch nie może zerwać i dlatego wersji nie podniósł)."
   ]
  },
  {
   "cell_type": "markdown",
   "id": "wired-refrigerator",
   "metadata": {},
   "source": [
    "### Wnioski\n",
    "\n",
    "* przydatnym jest ustalić w co w ogóle celujemy,\n",
    "* im dokładniejsze rozpoznanie tym więcej oczywistych furtek,\n",
    "* [obscurity](https://en.wikipedia.org/wiki/Security_through_obscurity) to nie security, ale nie zaszkodzi (no bi niby dlaczego komuś cokolwiek ułatwiać)."
   ]
  },
  {
   "cell_type": "markdown",
   "id": "unable-offering",
   "metadata": {},
   "source": [
    "## Gdzie i jak bić, żeby bolało?\n",
    "\n",
    "Dobrze jest być jakiś czas [w development i w operations](https://en.wikipedia.org/wiki/DevOps), żeby dowiedzieć się gdzie najłatwiej o potknięcia lub którędy prowadzą skróty.\n",
    "\n",
    "Możliwe, że cel zawiera otwarte komponenty. Same w sobie są one pewnie dość twarde, ale sposób ich użycia wcale poprawny być nie musi."
   ]
  },
  {
   "cell_type": "markdown",
   "id": "thermal-filter",
   "metadata": {},
   "source": [
    "Nie trzeba czytać całego kodu, ale trzeba potrafić go sprawnie przeszukiwać i dlatego kochamy [`grep`](https://man7.org/linux/man-pages/man1/grep.1.html) i [regex-y](https://en.wikipedia.org/wiki/Regular_expression):\n",
    "```\n",
    "grep -P 'validate.+cookie' -l -R .\n",
    "```"
   ]
  },
  {
   "cell_type": "markdown",
   "id": "marine-occasions",
   "metadata": {},
   "source": [
    "## Z wiedzy powszechnej\n",
    "\n",
    "> (...) są takie rzeczy że nikt nie zaprzeczy; po co tu się głowić? (...)\n",
    "\n",
    "Wszystko co wychodzi do klienta może wrócić od niego zmodyfikowane. Do sprawdzenia integralności przydają się tzw. [funkcje jednokierunkowe](https://en.wikipedia.org/wiki/One-way_function).\n",
    "\n",
    "Krypto to sztuka sama sobie. Reguła kciuka - jak sie nie znasz to nie udawaj; weź coś gotowego. Każdy framework ma coś na pokładzie np. [do werfikacji integralności](https://en.wikipedia.org/wiki/HMAC).\n",
    "\n",
    "Jednak znajomość mechanizmu nie może być wystarczająca do generowania legalnych treści, więc zawsze pamiętamy [o (unikatowej!) soli](https://en.wikipedia.org/wiki/Salt_(cryptography)).\n",
    "\n",
    "> (...) wszyscy zgadzają się ze sobą, a będzie nadal tak jak jest (...)"
   ]
  },
  {
   "cell_type": "markdown",
   "id": "laughing-cologne",
   "metadata": {},
   "source": [
    "cytaty (oczywiście) z \"Co ty tutaj robisz?\" Elektryczne Gitary"
   ]
  },
  {
   "cell_type": "markdown",
   "id": "shaped-disaster",
   "metadata": {},
   "source": [
    "[Percent encoding](https://en.wikipedia.org/wiki/Percent-encoding) czasami zwą [url encoding](https://www.w3schools.com/tags/ref_urlencode.ASP).\n",
    "\n",
    "PS. Kodowanie (encoding) to nie szyfrowanie (encryption)."
   ]
  }
 ],
 "metadata": {
  "kernelspec": {
   "display_name": "Python 3",
   "language": "python",
   "name": "python3"
  },
  "language_info": {
   "codemirror_mode": {
    "name": "ipython",
    "version": 3
   },
   "file_extension": ".py",
   "mimetype": "text/x-python",
   "name": "python",
   "nbconvert_exporter": "python",
   "pygments_lexer": "ipython3",
   "version": "3.8.5"
  }
 },
 "nbformat": 4,
 "nbformat_minor": 5
}
